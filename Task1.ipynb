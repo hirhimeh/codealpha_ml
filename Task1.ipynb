{
  "nbformat": 4,
  "nbformat_minor": 0,
  "metadata": {
    "colab": {
      "provenance": []
    },
    "kernelspec": {
      "name": "python3",
      "display_name": "Python 3"
    },
    "language_info": {
      "name": "python"
    }
  },
  "cells": [
    {
      "cell_type": "code",
      "execution_count": null,
      "metadata": {
        "id": "mhcZelx2tjei"
      },
      "outputs": [],
      "source": [
        "import pandas as pd\n",
        "import numpy as np\n",
        "from sklearn.metrics.pairwise import cosine_similarity\n",
        "from sklearn.preprocessing import LabelEncoder\n",
        "df=pd.read_csv('/content/playlists.csv.crdownload')"
      ]
    },
    {
      "cell_type": "code",
      "source": [
        "le = LabelEncoder()\n",
        "df['Genre_ID'] = le.fit_transform(df['Genre'])\n",
        "\n",
        "user_genre_matrix = df.pivot(index='Playlist', columns='Genre_ID', values='Genre_ID').fillna(0)\n",
        "\n",
        "user_similarity = cosine_similarity(user_genre_matrix)\n",
        "\n",
        "def recommend_genres(playlist_id, n=3):\n",
        "    playlist_index = df[df['Playlist'] == playlist_id].index[0]\n",
        "    similar_playlists = user_similarity[playlist_index]\n",
        "    sorted_indices = similar_playlists.argsort()[::-1]\n",
        "    recommended_genres = []\n",
        "\n",
        "    for idx in sorted_indices:\n",
        "        if user_genre_matrix.iloc[idx].isnull().all():\n",
        "            continue\n",
        "        recommended_genres.extend(user_genre_matrix.iloc[idx].nlargest(n).index)\n",
        "        if len(recommended_genres) >= n:\n",
        "            break\n",
        "\n",
        "    recommended_genres = le.inverse_transform(recommended_genres)\n",
        "\n",
        "    return recommended_genres\n",
        "\n",
        "# Example usage\n",
        "playlist_to_recommend = '19WuHd4MxWLzE1fpMmw4S4'\n",
        "recommended_genres = recommend_genres(playlist_to_recommend)\n",
        "recommended_genres_str = ', '.join(recommended_genres)\n",
        "print(f\"Recommended genres for playlist {playlist_to_recommend}: {recommended_genres_str}\")\n"
      ],
      "metadata": {
        "colab": {
          "base_uri": "https://localhost:8080/"
        },
        "id": "qwSTyT53top0",
        "outputId": "f038a8be-6e39-42ae-feb9-1bcfcf149f7d"
      },
      "execution_count": null,
      "outputs": [
        {
          "output_type": "stream",
          "name": "stdout",
          "text": [
            "Recommended genres for playlist 19WuHd4MxWLzE1fpMmw4S4: Emo, Dark Trap, Hiphop\n"
          ]
        }
      ]
    },
    {
      "cell_type": "code",
      "source": [],
      "metadata": {
        "id": "E8X9DdPoxhgm"
      },
      "execution_count": null,
      "outputs": []
    }
  ]
}